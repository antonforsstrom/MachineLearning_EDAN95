{
 "cells": [
  {
   "cell_type": "markdown",
   "metadata": {},
   "source": [
    "# Lab 5: Word Counting and Embedding Clustering"
   ]
  },
  {
   "cell_type": "markdown",
   "metadata": {},
   "source": [
    "**Author:** Marcus Klang (Marcus.Klang@cs.lth.se)\n",
    "\n",
    "TODO's in this version resolved by Hedda Malmström, Sofia Tenerz and Anton Forsström"
   ]
  },
  {
   "cell_type": "markdown",
   "metadata": {},
   "source": [
    "## Goals:\n",
    " * Learn how to read, transform and process text data with Pyspark\n",
    " * Preprocess and create a suitable dataset for clustering\n",
    " * Use KMeans from sklearn and cluster 10 000 words to 200 clusters\n",
    " * Write a function which displays words nearby\n",
    " \n",
    "## Outline of the lab\n",
    "\n",
    " * You will first solve a few exercises on Spark to learn how to write basic commands.\n",
    " * You will then apply Spark to extract the 10,000 most frequent words in the English Wikipedia.\n",
    " * As this corpus is very large, you will use 1% of it in the lab, the full Wikipedia is available.\n",
    " * You will finally cluster these words into 100 groups using their GloVe100 representation.\n",
    " * As clustering program, you will use KMeans from sklearn."
   ]
  },
  {
   "cell_type": "code",
   "execution_count": 1,
   "metadata": {},
   "outputs": [],
   "source": [
    "# When a cell contains TODO, you shall replace TODO with relevant code."
   ]
  },
  {
   "cell_type": "markdown",
   "metadata": {},
   "source": [
    "**Task 0**: Add 1 to 1"
   ]
  },
  {
   "cell_type": "code",
   "execution_count": 2,
   "metadata": {},
   "outputs": [],
   "source": [
    "#TODO"
   ]
  },
  {
   "cell_type": "markdown",
   "metadata": {},
   "source": [
    "Answer"
   ]
  },
  {
   "cell_type": "code",
   "execution_count": 3,
   "metadata": {},
   "outputs": [
    {
     "data": {
      "text/plain": [
       "2"
      ]
     },
     "execution_count": 3,
     "metadata": {},
     "output_type": "execute_result"
    }
   ],
   "source": [
    "1+1"
   ]
  },
  {
   "cell_type": "markdown",
   "metadata": {},
   "source": [
    "## Spark and Pyspark documentation\n",
    "\n",
    "General documention is available online when you need to look up the parameters of a function:\n",
    " \n",
    " * [Pyspark RDD](https://spark.apache.org/docs/2.4.0/api/python/pyspark.html)\n",
    " * [Pyspark SQL](https://spark.apache.org/docs/2.4.0/api/python/pyspark.sql.html)\n",
    " * [Spark](https://spark.apache.org/docs/2.4.0/)"
   ]
  },
  {
   "cell_type": "markdown",
   "metadata": {},
   "source": [
    "# Part 0: Dependencies"
   ]
  },
  {
   "cell_type": "markdown",
   "metadata": {},
   "source": [
    "Import these packages"
   ]
  },
  {
   "cell_type": "code",
   "execution_count": 5,
   "metadata": {},
   "outputs": [],
   "source": [
    "import os\n",
    "import sys\n",
    "import numpy as np\n",
    "import matplotlib.pyplot as plt\n",
    "%matplotlib inline"
   ]
  },
  {
   "cell_type": "markdown",
   "metadata": {},
   "source": [
    "## Data"
   ]
  },
  {
   "cell_type": "code",
   "execution_count": 6,
   "metadata": {},
   "outputs": [],
   "source": [
    "GLOVE_6B_100D_PATH=\"/h/d3/r/ine14afo/Downloads/glove.6B/glove.6B.100d.txt\"\n",
    "ENWIKI_1P_PATH=\"/usr/local/cs/EDAN95/datasets/wikipedia/enwiki_1p\""
   ]
  },
  {
   "cell_type": "markdown",
   "metadata": {},
   "source": [
    "Copy glove.6B.100d.txt from [Assignment 4](http://cs.lth.se/edan95-applied-machine-learning/lab-programming-assignments/assignment-4/) and set path above\n",
    "\n",
    "**If you are on your own computer:**\n",
    "\n",
    "1. Download the 1% Enwiki Paragraph dataset from http://fileadmin.cs.lth.se/cs/Education/EDAN95/Data/enwiki_1p.zip \n",
    "2. Extract relative to notebook\n",
    "3. Make sure the relative directory contains \"part-*\" files."
   ]
  },
  {
   "cell_type": "markdown",
   "metadata": {},
   "source": [
    "## Spark"
   ]
  },
  {
   "cell_type": "markdown",
   "metadata": {},
   "source": [
    "If you are using the computers in the lab rooms then everything is ready.\n",
    "\n",
    "**On your own computer:**\n",
    "\n",
    "These instructions are given in the hope that they are useful and help get you started, support will be minimal to none:\n",
    "\n",
    " 1. [Download Spark (Mirror choser - get real link from this page)](https://www.apache.org/dyn/closer.lua/spark/spark-2.4.0/spark-2.4.0-bin-hadoop2.7.tgz), link from [https://spark.apache.org/]\n",
    " 2. Unpack this directory, copy the path to this directory\n",
    " 3. Make sure you have the [Java 8 **JDK**](https://www.oracle.com/technetwork/java/javase/downloads/jdk8-downloads-2133151.html) installed and it is the default java. **Spark does not support Java 9+**, if your default java is 9+, then you have to set and export the environment variable JAVA_HOME with the proper location of your java 8 installation before starting your notebook/lab server, which implies that you need to restart the server running this notebook.\n",
    " 4. Modify SPARK_HOME in the cell below with the copied path and run it."
   ]
  },
  {
   "cell_type": "code",
   "execution_count": null,
   "metadata": {},
   "outputs": [],
   "source": [
    "# This path should point to a location which contains a bin and python directory\n",
    "SPARK_HOME=\"!! REPLACE THIS WITH THE PATH TO THE UNPACKED DIRECTORY !!\"\n",
    "os.environ[\"SPARK_HOME\"] = SPARK_HOME\n",
    "sys.path.append(os.path.join(SPARK_HOME, \"python\"))\n",
    "sys.path.append(os.path.join(SPARK_HOME, \"python\", \"lib\", \"py4j-0.10.7-src.zip\"))"
   ]
  },
  {
   "cell_type": "markdown",
   "metadata": {},
   "source": [
    "# Part 1: Pyspark RDD"
   ]
  },
  {
   "cell_type": "code",
   "execution_count": 9,
   "metadata": {},
   "outputs": [],
   "source": [
    "from pyspark import SparkContext   # The main context\n",
    "from pyspark.sql import SQLContext # The SQL CONTEXT"
   ]
  },
  {
   "cell_type": "markdown",
   "metadata": {},
   "source": [
    "This utility function will resolve a correct path for Spark"
   ]
  },
  {
   "cell_type": "code",
   "execution_count": 10,
   "metadata": {},
   "outputs": [],
   "source": [
    "def pyspark_path(filepath):\n",
    "    return \"file:%s\" % os.path.abspath(filepath)"
   ]
  },
  {
   "cell_type": "markdown",
   "metadata": {},
   "source": [
    "We will now create a ```SparkContext``` for testing purposes i.e. run it locally and use all available cores.\n",
    "\n",
    "```local[*]```, the ```*``` defines the number of cores to use (* = all, 1 = one core, 4 = four cores, etc.).\n",
    "\n",
    "This will create the Py4j bridge, and start a background JVM which runs the Spark Engine."
   ]
  },
  {
   "cell_type": "code",
   "execution_count": 11,
   "metadata": {},
   "outputs": [],
   "source": [
    "sc = SparkContext(master=\"local[*]\", appName=\"Lab 5\")"
   ]
  },
  {
   "cell_type": "markdown",
   "metadata": {},
   "source": [
    "The ```sc``` variable will provide a link to the driver webpage where status information can be found, along with all settings and more."
   ]
  },
  {
   "cell_type": "code",
   "execution_count": 12,
   "metadata": {},
   "outputs": [
    {
     "data": {
      "text/html": [
       "\n",
       "        <div>\n",
       "            <p><b>SparkContext</b></p>\n",
       "\n",
       "            <p><a href=\"http://varg-11.e.lth.lu.se:4040\">Spark UI</a></p>\n",
       "\n",
       "            <dl>\n",
       "              <dt>Version</dt>\n",
       "                <dd><code>v2.3.1</code></dd>\n",
       "              <dt>Master</dt>\n",
       "                <dd><code>local[*]</code></dd>\n",
       "              <dt>AppName</dt>\n",
       "                <dd><code>Lab 5</code></dd>\n",
       "            </dl>\n",
       "        </div>\n",
       "        "
      ],
      "text/plain": [
       "<SparkContext master=local[*] appName=Lab 5>"
      ]
     },
     "execution_count": 12,
     "metadata": {},
     "output_type": "execute_result"
    }
   ],
   "source": [
    "sc"
   ]
  },
  {
   "cell_type": "markdown",
   "metadata": {},
   "source": [
    "## Part 1.1 Tiny steps with Pyspark"
   ]
  },
  {
   "cell_type": "markdown",
   "metadata": {},
   "source": [
    "The objective of this section is to get you familiar with different transformations and actions.\n",
    "\n",
    "All tasks will contain links to the function to use when a new concepts are introduced, when no links exists you are expected to use suitable functions."
   ]
  },
  {
   "cell_type": "markdown",
   "metadata": {},
   "source": [
    "Create some dummy data, 100 000 elements from 0 to 99 999, use 8 partitions"
   ]
  },
  {
   "cell_type": "code",
   "execution_count": 13,
   "metadata": {},
   "outputs": [],
   "source": [
    "dataset = sc.parallelize(list(range(100000)), 8)"
   ]
  },
  {
   "cell_type": "markdown",
   "metadata": {},
   "source": [
    "**Task 1:** Print the 5 first elements, use the [take](https://spark.apache.org/docs/2.4.0/api/python/pyspark.html#pyspark.RDD.take) function"
   ]
  },
  {
   "cell_type": "code",
   "execution_count": 14,
   "metadata": {},
   "outputs": [
    {
     "data": {
      "text/plain": [
       "[0, 1, 2, 3, 4]"
      ]
     },
     "execution_count": 14,
     "metadata": {},
     "output_type": "execute_result"
    }
   ],
   "source": [
    "dataset.take(5)"
   ]
  },
  {
   "cell_type": "markdown",
   "metadata": {},
   "source": [
    "**Task 2:** Use [reduce](https://spark.apache.org/docs/2.4.0/api/python/pyspark.html#pyspark.RDD.reduce) to sum all values"
   ]
  },
  {
   "cell_type": "code",
   "execution_count": 15,
   "metadata": {},
   "outputs": [
    {
     "data": {
      "text/plain": [
       "4999950000"
      ]
     },
     "execution_count": 15,
     "metadata": {},
     "output_type": "execute_result"
    }
   ],
   "source": [
    "from operator import add\n",
    "dataset.reduce(add)"
   ]
  },
  {
   "cell_type": "markdown",
   "metadata": {},
   "source": [
    "**Task 3:** Sum the values using the [sum](https://spark.apache.org/docs/2.4.0/api/python/pyspark.html#pyspark.RDD.sum) function"
   ]
  },
  {
   "cell_type": "code",
   "execution_count": 16,
   "metadata": {},
   "outputs": [
    {
     "data": {
      "text/plain": [
       "4999950000"
      ]
     },
     "execution_count": 16,
     "metadata": {},
     "output_type": "execute_result"
    }
   ],
   "source": [
    "dataset.sum()"
   ]
  },
  {
   "cell_type": "markdown",
   "metadata": {},
   "source": [
    "**Task 4:** Compute the mean using the [mean](https://spark.apache.org/docs/2.4.0/api/python/pyspark.html#pyspark.RDD.mean) function"
   ]
  },
  {
   "cell_type": "code",
   "execution_count": 17,
   "metadata": {},
   "outputs": [
    {
     "data": {
      "text/plain": [
       "49999.5"
      ]
     },
     "execution_count": 17,
     "metadata": {},
     "output_type": "execute_result"
    }
   ],
   "source": [
    "dataset.mean()"
   ]
  },
  {
   "cell_type": "markdown",
   "metadata": {},
   "source": [
    "**Task 5:** Add 15 to all elements using [map](https://spark.apache.org/docs/2.4.0/api/python/pyspark.html#pyspark.RDD.map), take the first 5 elements"
   ]
  },
  {
   "cell_type": "code",
   "execution_count": 18,
   "metadata": {},
   "outputs": [
    {
     "data": {
      "text/plain": [
       "[15, 16, 17, 18, 19]"
      ]
     },
     "execution_count": 18,
     "metadata": {},
     "output_type": "execute_result"
    }
   ],
   "source": [
    "dataset.map(lambda x: x+15).take(5)"
   ]
  },
  {
   "cell_type": "markdown",
   "metadata": {},
   "source": [
    "**Task 6:** Repeat task 5 but use a function instead of a lambda"
   ]
  },
  {
   "cell_type": "code",
   "execution_count": 19,
   "metadata": {},
   "outputs": [
    {
     "data": {
      "text/plain": [
       "[0, 1, 2, 3, 4]"
      ]
     },
     "execution_count": 19,
     "metadata": {},
     "output_type": "execute_result"
    }
   ],
   "source": [
    "dataset.take(5)"
   ]
  },
  {
   "cell_type": "code",
   "execution_count": 20,
   "metadata": {},
   "outputs": [
    {
     "data": {
      "text/plain": [
       "[15, 16, 17, 18, 19]"
      ]
     },
     "execution_count": 20,
     "metadata": {},
     "output_type": "execute_result"
    }
   ],
   "source": [
    "def func(x):\n",
    "    return x+15\n",
    "\n",
    "dataset.map(func).take(5)"
   ]
  },
  {
   "cell_type": "markdown",
   "metadata": {},
   "source": [
    "**Task 7:** Filter out odd numbers (divisble by 2 is ```x % 2 == 0```) and compute the mean"
   ]
  },
  {
   "cell_type": "code",
   "execution_count": 21,
   "metadata": {},
   "outputs": [
    {
     "data": {
      "text/plain": [
       "49999.0"
      ]
     },
     "execution_count": 21,
     "metadata": {},
     "output_type": "execute_result"
    }
   ],
   "source": [
    "dataset.filter(lambda x: x%2==0).mean()"
   ]
  },
  {
   "cell_type": "markdown",
   "metadata": {},
   "source": [
    "**Task 8:** Find all odd numbers between 10 000 and 50 000 (inclusive), add 134, find all divisible by 17, [collect](https://spark.apache.org/docs/2.4.0/api/python/pyspark.html#pyspark.RDD.collect) and [count](https://spark.apache.org/docs/2.4.0/api/python/pyspark.html#pyspark.RDD.count) them."
   ]
  },
  {
   "cell_type": "code",
   "execution_count": 22,
   "metadata": {},
   "outputs": [
    {
     "data": {
      "text/plain": [
       "1177"
      ]
     },
     "execution_count": 22,
     "metadata": {},
     "output_type": "execute_result"
    }
   ],
   "source": [
    "dataset2 = sc.parallelize(list(range(10000,50001)), 8)\n",
    "\n",
    "dataset2.filter(lambda x: x%2!=0).map(lambda x: x+134).filter(lambda x: x%17==0).collect()\n",
    "\n",
    "dataset3 = dataset2.filter(lambda x: x%2!=0).map(lambda x: x+134).filter(lambda x: x%17==0)\n",
    "\n",
    "dataset3.count()"
   ]
  },
  {
   "cell_type": "markdown",
   "metadata": {},
   "source": [
    "## Part 1.2 The execution model"
   ]
  },
  {
   "cell_type": "markdown",
   "metadata": {},
   "source": [
    "Pyspark uses multiple processes for parellization as CPython lacks native threading.\n",
    "\n",
    "Although possible, shared memory is not used, which means all processes are unique and data which resides in the driver is copied when needed, and state is not transfered"
   ]
  },
  {
   "cell_type": "code",
   "execution_count": 23,
   "metadata": {},
   "outputs": [],
   "source": [
    "import random"
   ]
  },
  {
   "cell_type": "code",
   "execution_count": 24,
   "metadata": {},
   "outputs": [
    {
     "name": "stdout",
     "output_type": "stream",
     "text": [
      "5004954344\n",
      "5004916152\n",
      "5004954907\n"
     ]
    }
   ],
   "source": [
    "for i in range(3):\n",
    "    random.seed(1)\n",
    "    print(dataset.map(lambda x: x+random.randint(0,100)).sum())"
   ]
  },
  {
   "cell_type": "markdown",
   "metadata": {},
   "source": [
    "Exepected output above is 3 different values, as the random state from the driver is not copied to the executor."
   ]
  },
  {
   "cell_type": "markdown",
   "metadata": {},
   "source": [
    "Now we will attempt to make it predictable, by seeding in each process and using a function instead of a lambda.\n",
    "\n",
    "In addition, the code below will not return all values, instead it will compute a single sum within each partition."
   ]
  },
  {
   "cell_type": "code",
   "execution_count": 25,
   "metadata": {},
   "outputs": [
    {
     "name": "stdout",
     "output_type": "stream",
     "text": [
      "5004933586\n",
      "5004933586\n",
      "5004933586\n"
     ]
    }
   ],
   "source": [
    "def predictable_map_partition(indx, partition):\n",
    "    # Whatever code you write here, will run in the executor\n",
    "    random.seed(indx)\n",
    "    return [sum(x+random.randint(0,100) for x in partition)]\n",
    "\n",
    "for i in range(3):\n",
    "    print(dataset.mapPartitionsWithIndex(predictable_map_partition).sum())"
   ]
  },
  {
   "cell_type": "markdown",
   "metadata": {},
   "source": [
    "The output of above is predictable as each partition will be seeded in a predictable manner."
   ]
  },
  {
   "cell_type": "markdown",
   "metadata": {},
   "source": [
    "## Part 1.3 Sharing read-only data between executors"
   ]
  },
  {
   "cell_type": "markdown",
   "metadata": {},
   "source": [
    "It is not uncommon to need some data to be shared between executors.\n",
    "\n",
    "Common use cases are:\n",
    " * Sets/Dictionaries for fast in-memory lookup\n",
    " * User-defined objects which contains parameters for the algorithm that should be parallelized\n",
    " * General in-memory objects which are used frequently but never modified. These objects might have expensive intialization (such as loading a model, etc.)"
   ]
  },
  {
   "cell_type": "markdown",
   "metadata": {},
   "source": [
    "Data is shared using a mechanism called *[Broadcasts](https://spark.apache.org/docs/2.4.0/api/python/pyspark.html#pyspark.Broadcast)*, these are serialized objects which are distributed efficiently and shared across muliple calls within a pipeline.\n",
    "\n",
    "```pickle```is used to serialize objects to transmit over network or locally to executor processes."
   ]
  },
  {
   "cell_type": "code",
   "execution_count": 26,
   "metadata": {},
   "outputs": [],
   "source": [
    "lookup = sc.broadcast({\"a\": \"x\", \"b\":\"y\", \"c\": \"z\"})"
   ]
  },
  {
   "cell_type": "code",
   "execution_count": 27,
   "metadata": {},
   "outputs": [
    {
     "data": {
      "text/plain": [
       "['xyz', 'def']"
      ]
     },
     "execution_count": 27,
     "metadata": {},
     "output_type": "execute_result"
    }
   ],
   "source": [
    "sc.parallelize([\"abc\", \"def\"],1).map(lambda x: \"\".join([lookup.value.get(ch,ch) for ch in x])).collect()"
   ]
  },
  {
   "cell_type": "code",
   "execution_count": 28,
   "metadata": {},
   "outputs": [
    {
     "data": {
      "text/plain": [
       "['def']"
      ]
     },
     "execution_count": 28,
     "metadata": {},
     "output_type": "execute_result"
    }
   ],
   "source": [
    "setlookup = sc.broadcast(set([\"def\"]))\n",
    "sc.parallelize([\"abc\", \"def\"],1).filter(lambda x: x in setlookup.value).collect()"
   ]
  },
  {
   "cell_type": "markdown",
   "metadata": {},
   "source": [
    "## Part 1.4: Real data"
   ]
  },
  {
   "cell_type": "markdown",
   "metadata": {},
   "source": [
    "We will be using a 1% sample of all paragraphs in English Wikipedia from October 2018.\n",
    "\n",
    "The data has been segmented in advance, the following specifics apply:\n",
    " \n",
    " * Tokens/Words are seperated by space ' '\n",
    " * Sentences are seperated by tab characters, '\\t'\n",
    " * Paragraphs are seperated by newlines, which means that each entry is a full paragraph."
   ]
  },
  {
   "cell_type": "code",
   "execution_count": 29,
   "metadata": {},
   "outputs": [],
   "source": [
    "paragraphs = sc.textFile(pyspark_path(ENWIKI_1P_PATH))"
   ]
  },
  {
   "cell_type": "markdown",
   "metadata": {},
   "source": [
    "**Task 9**: Display the first 5 paragraphs"
   ]
  },
  {
   "cell_type": "code",
   "execution_count": 34,
   "metadata": {},
   "outputs": [
    {
     "data": {
      "text/plain": [
       "['Dundee United played a total of 35 matches during the 1936–37 season .',\n",
       " 'On January 17 , the Whalers acquired Wayne Babych , the older brother of Whalers defenseman Dave Babych , from the Quebec Nordiques , in exchange for Greg Malone .\\tBabych , who was acquired by Quebec from the Pittsburgh Penguins earlier in the season , had six goals and 11 points in 15 games with the Nordiques .\\tHis best season came in 1980-81 , while as a member of the St. Louis Blues , Babych scored 54 goals and 96 points in 78 games .\\tDuring that season , he led the NHL with 40 even strength goals .',\n",
       " 'Amanda Swisten ( born December 20 , 1978 ) is a former American model and actress of Scandinavian / Slavic descent , who has appeared in various films and TV shows .',\n",
       " 'It was also covered by The Kooks along with the Buena Vista Social Club in 2007 on the album Rhythms del Mundo Classics .',\n",
       " 'No tests of nuclear devices took place in Area 27 .']"
      ]
     },
     "execution_count": 34,
     "metadata": {},
     "output_type": "execute_result"
    }
   ],
   "source": [
    "paragraphs.take(5)"
   ]
  },
  {
   "cell_type": "markdown",
   "metadata": {},
   "source": [
    "**Task 10.** Count the number of paragraphs"
   ]
  },
  {
   "cell_type": "code",
   "execution_count": 35,
   "metadata": {},
   "outputs": [
    {
     "data": {
      "text/plain": [
       "355520"
      ]
     },
     "execution_count": 35,
     "metadata": {},
     "output_type": "execute_result"
    }
   ],
   "source": [
    "paragraphs.count()"
   ]
  },
  {
   "cell_type": "markdown",
   "metadata": {},
   "source": [
    "**Task 11:** [Sample](https://spark.apache.org/docs/2.4.0/api/python/pyspark.html#pyspark.RDD.sample) 1% of these paragraphs, and display the first 5\n",
    "\n",
    "The use-case of sampling is to speed up testing, getting a downsampled version of the dataset retains the statistical properties.\n",
    "\n",
    "Please use sampling if execution times are too long. Another tip is to cache the 1% sample in memory for even better performance using [cache()](https://spark.apache.org/docs/2.4.0/api/python/pyspark.html#pyspark.RDD.cache), more fingrained caching can be controlled using [persist()](https://spark.apache.org/docs/2.4.0/api/python/pyspark.html#pyspark.RDD.persist) and [StorageLevels](https://spark.apache.org/docs/2.4.0/api/python/pyspark.html#pyspark.StorageLevel)"
   ]
  },
  {
   "cell_type": "code",
   "execution_count": 39,
   "metadata": {},
   "outputs": [
    {
     "data": {
      "text/plain": [
       "['Towards the end of the decade , McMahon took on other endorsement roles , playing a rapper for a FreeCreditReport . com commercial and in a Cash 4 Gold commercial alongside MC Hammer . McMahon was also the spokesman for Pride Mobility , a leading power wheelchair and scooter manufacturer .\\tHis final film appearance was in the independent John Hughes themed rom - com Jelly as Mr. Closure alongside actress Natasha Lyonne .\\tMostly in the 1980 s through the 1990 s , McMahon was the spokesperson for Colonial Penn Life Insurance Company .',\n",
       " 'He served as a judge in the Cape High Court , was President of the Appeal Court of Lesotho and served on the Courts of Appeal of Botswana and Swaziland .\\tHe also headed up the Urban Foundation and the Independent Development Trust ( IDT ) , served on several commissions of enquiry , as Ombudsman for the Long - Term Insurance Industry and on the boards of non - profit organisations such as NICRO , and Communicare as well as companies such as Anglo American and Barclays Bank .',\n",
       " \"Haig - Brown 's army career began at Lancing College in 1906 as a lieutenant in the Lancing Officers ' Training Corps , receiving a promotion to captain before the end of the year .\\tIn 1908 his commission was transferred to the Territorial Army .\\tHaig - Brown commanded the Lancing Officers ' Training Corps until 1915 , by which time the British Army was fighting in the First World War .\\tHe was transferred to the 23 rd Battalion of the Middlesex Regiment on 1 January 1916 , promoted to major and appointed second - in - command of the battalion .\\tHaig - Brown was appointed a temporary lieutenant colonel in September 1916 and given command of the battalion .\\tHe saw active service on the Western and Italian fronts between 1916 and 1918 , was mentioned in dispatches twice and awarded the Distinguished Service Order .\\tHaig - Brown was killed near the Bapaume - Sapignies road , France on 25 March 1918 , during the German Spring Offensive .\\tHe was buried Achiet - le - Grand Communal Cemetery Extension .\",\n",
       " \"With increasing numbers of cottage weavers , better looms were required , leading to the establishment of the loom manufacturing business C.H. Schäfer , which now produces machine parts and is one of Ohorn 's largest employers .\",\n",
       " 'It creates textual group Λ. The group was identified and described by Hermann von Soden , who designated it by I. Soden considered it the most diluted form of the Iota text - type , being about nine parts Kappa to one part Iota .\\tAccording to von Soden it is not an important group and has a little significance for the reconstruction of the original text of the New Testament .\\tThe early date of some its members places the origin of the group in or before the 9 th century .\\tAccording to Wisse the group is fairly close to K.']"
      ]
     },
     "execution_count": 39,
     "metadata": {},
     "output_type": "execute_result"
    }
   ],
   "source": [
    "paragraphs.sample(False, 0.01).take(5)"
   ]
  },
  {
   "cell_type": "markdown",
   "metadata": {},
   "source": [
    "## Part 2: Preprocessing"
   ]
  },
  {
   "cell_type": "markdown",
   "metadata": {},
   "source": [
    "The objective of this part is to count words by doing the following parts:\n",
    "    \n",
    " * Convert paragraphs into tokens\n",
    " * Normalize tokens into lowercase\n",
    " * Count per token\n",
    " * Sort and retrieve the top 10000 words in the provided dataset"
   ]
  },
  {
   "cell_type": "markdown",
   "metadata": {},
   "source": [
    "**Task 12**: Split paragraphs into tokens using [flatMap](https://spark.apache.org/docs/2.4.0/api/python/pyspark.html#pyspark.RDD.flatMap), display first 10 tokens"
   ]
  },
  {
   "cell_type": "code",
   "execution_count": 40,
   "metadata": {},
   "outputs": [
    {
     "data": {
      "text/plain": [
       "['Dundee',\n",
       " 'United',\n",
       " 'played',\n",
       " 'a',\n",
       " 'total',\n",
       " 'of',\n",
       " '35',\n",
       " 'matches',\n",
       " 'during',\n",
       " 'the']"
      ]
     },
     "execution_count": 40,
     "metadata": {},
     "output_type": "execute_result"
    }
   ],
   "source": [
    "tokens = paragraphs.flatMap(lambda x: x.split(\" \"))\n",
    "tokens.take(10)"
   ]
  },
  {
   "cell_type": "markdown",
   "metadata": {},
   "source": [
    "**Task 13:** Lower-case the tokens, display first 10 tokens"
   ]
  },
  {
   "cell_type": "code",
   "execution_count": 41,
   "metadata": {},
   "outputs": [
    {
     "data": {
      "text/plain": [
       "['dundee',\n",
       " 'united',\n",
       " 'played',\n",
       " 'a',\n",
       " 'total',\n",
       " 'of',\n",
       " '35',\n",
       " 'matches',\n",
       " 'during',\n",
       " 'the']"
      ]
     },
     "execution_count": 41,
     "metadata": {},
     "output_type": "execute_result"
    }
   ],
   "source": [
    "from pyspark.sql.functions import lower\n",
    "\n",
    "lowerTokens=tokens.map(lambda x: x.lower())\n",
    "\n",
    "lowerTokens.take(10)"
   ]
  },
  {
   "cell_type": "markdown",
   "metadata": {},
   "source": [
    "*Remember* you can use a 1% sample during testing\n",
    "\n",
    "**Task 14:** Count tokens using *map* and [reduceByKey](https://spark.apache.org/docs/2.4.0/api/python/pyspark.html#pyspark.RDD.reduceByKey), filter out ```sweden, lund, skåne, learning, spark```, and display counts for these."
   ]
  },
  {
   "cell_type": "code",
   "execution_count": 42,
   "metadata": {},
   "outputs": [
    {
     "data": {
      "text/plain": [
       "[('skåne', 13),\n",
       " ('sweden', 1235),\n",
       " ('lund', 70),\n",
       " ('spark', 134),\n",
       " ('learning', 1456)]"
      ]
     },
     "execution_count": 42,
     "metadata": {},
     "output_type": "execute_result"
    }
   ],
   "source": [
    "#lowerTokens.map(lambda x: [x, 1]).reduceByKey(add).take(2)\n",
    "\n",
    "\n",
    "lowerTokens.map(lambda x: [x, 1]).reduceByKey(add).filter(lambda x: x[0]==\"sweden\" or x[0]==\"lund\" or x[0]==\"skåne\" or x[0]==\"learning\" or x[0]==\"spark\").collect()"
   ]
  },
  {
   "cell_type": "markdown",
   "metadata": {},
   "source": [
    "**Task 15:** Count the total number of tokens in the corpus"
   ]
  },
  {
   "cell_type": "code",
   "execution_count": 43,
   "metadata": {},
   "outputs": [
    {
     "data": {
      "text/plain": [
       "23710137"
      ]
     },
     "execution_count": 43,
     "metadata": {},
     "output_type": "execute_result"
    }
   ],
   "source": [
    "lowerTokens.count()"
   ]
  },
  {
   "cell_type": "markdown",
   "metadata": {},
   "source": [
    "**Task 16:** Take the top 10 000 most frequent tokens using [takeOrdered](https://spark.apache.org/docs/2.4.0/api/python/pyspark.html#pyspark.RDD.takeOrdered).\n",
    "\n",
    "Save the result in a variable called ```top10000```"
   ]
  },
  {
   "cell_type": "code",
   "execution_count": 44,
   "metadata": {},
   "outputs": [],
   "source": [
    "top10000 = lowerTokens.map(lambda x: [x, 1]).reduceByKey(add).takeOrdered(10000, key=lambda x: -x[1])"
   ]
  },
  {
   "cell_type": "code",
   "execution_count": 73,
   "metadata": {},
   "outputs": [
    {
     "data": {
      "text/plain": [
       "10000"
      ]
     },
     "execution_count": 73,
     "metadata": {},
     "output_type": "execute_result"
    }
   ],
   "source": [
    "len(top10000)"
   ]
  },
  {
   "cell_type": "code",
   "execution_count": 74,
   "metadata": {},
   "outputs": [
    {
     "data": {
      "text/plain": [
       "[('the', 1387858),\n",
       " (',', 1210718),\n",
       " ('of', 708672),\n",
       " ('and', 606301),\n",
       " ('in', 568321),\n",
       " ('a', 433758),\n",
       " ('to', 433342),\n",
       " ('.', 357709),\n",
       " ('was', 261767),\n",
       " ('-', 214916)]"
      ]
     },
     "execution_count": 74,
     "metadata": {},
     "output_type": "execute_result"
    }
   ],
   "source": [
    "top10000[:10]"
   ]
  },
  {
   "cell_type": "markdown",
   "metadata": {},
   "source": [
    "## Part 3: Process Glove, and extract the embeddings for the top 10000 words"
   ]
  },
  {
   "cell_type": "markdown",
   "metadata": {},
   "source": [
    "The objective of this part is:\n",
    "\n",
    " * Parse the Glove 6B embedding\n",
    " * Filter out only the embeddings matching words that exists in the top 10 000 words.\n",
    " * Produce the X which we will cluster"
   ]
  },
  {
   "cell_type": "markdown",
   "metadata": {},
   "source": [
    "**Task 17:** Load Glove 6B 100d embeddings into a variable ```glove6B```"
   ]
  },
  {
   "cell_type": "code",
   "execution_count": 51,
   "metadata": {},
   "outputs": [],
   "source": [
    "glove6B = sc.textFile(\"/h/d3/r/ine14afo/Downloads/glove.6B.100d.txt\", 4)"
   ]
  },
  {
   "cell_type": "markdown",
   "metadata": {},
   "source": [
    "**Task 18:** Count the number of embeddings and print the first 5"
   ]
  },
  {
   "cell_type": "code",
   "execution_count": 57,
   "metadata": {},
   "outputs": [
    {
     "data": {
      "text/plain": [
       "400000"
      ]
     },
     "execution_count": 57,
     "metadata": {},
     "output_type": "execute_result"
    }
   ],
   "source": [
    "glove6B.count()"
   ]
  },
  {
   "cell_type": "code",
   "execution_count": 58,
   "metadata": {},
   "outputs": [
    {
     "data": {
      "text/plain": [
       "['the -0.038194 -0.24487 0.72812 -0.39961 0.083172 0.043953 -0.39141 0.3344 -0.57545 0.087459 0.28787 -0.06731 0.30906 -0.26384 -0.13231 -0.20757 0.33395 -0.33848 -0.31743 -0.48336 0.1464 -0.37304 0.34577 0.052041 0.44946 -0.46971 0.02628 -0.54155 -0.15518 -0.14107 -0.039722 0.28277 0.14393 0.23464 -0.31021 0.086173 0.20397 0.52624 0.17164 -0.082378 -0.71787 -0.41531 0.20335 -0.12763 0.41367 0.55187 0.57908 -0.33477 -0.36559 -0.54857 -0.062892 0.26584 0.30205 0.99775 -0.80481 -3.0243 0.01254 -0.36942 2.2167 0.72201 -0.24978 0.92136 0.034514 0.46745 1.1079 -0.19358 -0.074575 0.23353 -0.052062 -0.22044 0.057162 -0.15806 -0.30798 -0.41625 0.37972 0.15006 -0.53212 -0.2055 -1.2526 0.071624 0.70565 0.49744 -0.42063 0.26148 -1.538 -0.30223 -0.073438 -0.28312 0.37104 -0.25217 0.016215 -0.017099 -0.38984 0.87424 -0.72569 -0.51058 -0.52028 -0.1459 0.8278 0.27062',\n",
       " ', -0.10767 0.11053 0.59812 -0.54361 0.67396 0.10663 0.038867 0.35481 0.06351 -0.094189 0.15786 -0.81665 0.14172 0.21939 0.58505 -0.52158 0.22783 -0.16642 -0.68228 0.3587 0.42568 0.19021 0.91963 0.57555 0.46185 0.42363 -0.095399 -0.42749 -0.16567 -0.056842 -0.29595 0.26037 -0.26606 -0.070404 -0.27662 0.15821 0.69825 0.43081 0.27952 -0.45437 -0.33801 -0.58184 0.22364 -0.5778 -0.26862 -0.20425 0.56394 -0.58524 -0.14365 -0.64218 0.0054697 -0.35248 0.16162 1.1796 -0.47674 -2.7553 -0.1321 -0.047729 1.0655 1.1034 -0.2208 0.18669 0.13177 0.15117 0.7131 -0.35215 0.91348 0.61783 0.70992 0.23955 -0.14571 -0.37859 -0.045959 -0.47368 0.2385 0.20536 -0.18996 0.32507 -1.1112 -0.36341 0.98679 -0.084776 -0.54008 0.11726 -1.0194 -0.24424 0.12771 0.013884 0.080374 -0.35414 0.34951 -0.7226 0.37549 0.4441 -0.99059 0.61214 -0.35111 -0.83155 0.45293 0.082577',\n",
       " '. -0.33979 0.20941 0.46348 -0.64792 -0.38377 0.038034 0.17127 0.15978 0.46619 -0.019169 0.41479 -0.34349 0.26872 0.04464 0.42131 -0.41032 0.15459 0.022239 -0.64653 0.25256 0.043136 -0.19445 0.46516 0.45651 0.68588 0.091295 0.21875 -0.70351 0.16785 -0.35079 -0.12634 0.66384 -0.2582 0.036542 -0.13605 0.40253 0.14289 0.38132 -0.12283 -0.45886 -0.25282 -0.30432 -0.11215 -0.26182 -0.22482 -0.44554 0.2991 -0.85612 -0.14503 -0.49086 0.0082973 -0.17491 0.27524 1.4401 -0.21239 -2.8435 -0.27958 -0.45722 1.6386 0.78808 -0.55262 0.65 0.086426 0.39012 1.0632 -0.35379 0.48328 0.346 0.84174 0.098707 -0.24213 -0.27053 0.045287 -0.40147 0.11395 0.0062226 0.036673 0.018518 -1.0213 -0.20806 0.64072 -0.068763 -0.58635 0.33476 -1.1432 -0.1148 -0.25091 -0.45907 -0.096819 -0.17946 -0.063351 -0.67412 -0.068895 0.53604 -0.87773 0.31802 -0.39242 -0.23394 0.47298 -0.028803',\n",
       " 'of -0.1529 -0.24279 0.89837 0.16996 0.53516 0.48784 -0.58826 -0.17982 -1.3581 0.42541 0.15377 0.24215 0.13474 0.41193 0.67043 -0.56418 0.42985 -0.012183 -0.11677 0.31781 0.054177 -0.054273 0.35516 -0.30241 0.31434 -0.33846 0.71715 -0.26855 -0.15837 -0.47467 0.051581 -0.33252 0.15003 -0.1299 -0.54617 -0.37843 0.64261 0.82187 -0.080006 0.078479 -0.96976 -0.57741 0.56491 -0.39873 -0.057099 0.19743 0.065706 -0.48092 -0.20125 -0.40834 0.39456 -0.02642 -0.11838 1.012 -0.53171 -2.7474 -0.042981 -0.74849 1.7574 0.59085 0.04885 0.78267 0.38497 0.42097 0.67882 0.10337 0.6328 -0.026595 0.58647 -0.44332 0.33057 -0.12022 -0.55645 0.073611 0.20915 0.43395 -0.012761 0.089874 -1.7991 0.084808 0.77112 0.63105 -0.90685 0.60326 -1.7515 0.18596 -0.50687 -0.70203 0.66578 -0.81304 0.18712 -0.018488 -0.26757 0.727 -0.59363 -0.34839 -0.56094 -0.591 1.0039 0.20664',\n",
       " 'to -0.1897 0.050024 0.19084 -0.049184 -0.089737 0.21006 -0.54952 0.098377 -0.20135 0.34241 -0.092677 0.161 -0.13268 -0.2816 0.18737 -0.42959 0.96039 0.13972 -1.0781 0.40518 0.50539 -0.55064 0.4844 0.38044 -0.0029055 -0.34942 -0.099696 -0.78368 1.0363 -0.2314 -0.47121 0.57126 -0.21454 0.35958 -0.48319 1.0875 0.28524 0.12447 -0.039248 -0.076732 -0.76343 -0.32409 -0.5749 -1.0893 -0.41811 0.4512 0.12112 -0.51367 -0.13349 -1.1378 -0.28768 0.16774 0.55804 1.5387 0.018859 -2.9721 -0.24216 -0.92495 2.1992 0.28234 -0.3478 0.51621 -0.43387 0.36852 0.74573 0.072102 0.27931 0.92569 -0.050336 -0.85856 -0.1358 -0.92551 -0.33991 -1.0394 -0.067203 -0.21379 -0.4769 0.21377 -0.84008 0.052536 0.59298 0.29604 -0.67644 0.13916 -1.5504 -0.20765 0.7222 0.52056 -0.076221 -0.15194 -0.13134 0.058617 -0.31869 -0.61419 -0.62393 -0.41548 -0.038175 -0.39804 0.47647 -0.15983']"
      ]
     },
     "execution_count": 58,
     "metadata": {},
     "output_type": "execute_result"
    }
   ],
   "source": [
    "glove6B.take(5)"
   ]
  },
  {
   "cell_type": "markdown",
   "metadata": {},
   "source": [
    "**Task 18:** Parse the embedding by using a function which splits the input into tuples of (word, embedding), display the first 5"
   ]
  },
  {
   "cell_type": "code",
   "execution_count": 59,
   "metadata": {},
   "outputs": [],
   "source": [
    "# Don't need this for anything right?\n",
    "import numpy as np\n",
    "\n",
    "def load(file):\n",
    "    \"\"\"Modified function provided by Pierre Nugues\"\"\"\n",
    "    file = file\n",
    "    embeddings = {}\n",
    "    glove = open(file)\n",
    "    for line in glove:\n",
    "        values = line.strip().split()\n",
    "        word = values[0]\n",
    "        vector = np.array(values[1:], dtype='float32')\n",
    "        # Does this calculate the distance? Normalizes?\n",
    "        vector /= np.sqrt(np.dot(vector, vector))\n",
    "        embeddings[word] = vector\n",
    "    glove.close()\n",
    "    embeddings_dict = embeddings\n",
    "    embedded_words = sorted(list(embeddings_dict.keys()))\n",
    "    return embeddings_dict, embedded_words\n",
    "\n",
    "embedding_file =  \"/h/d3/r/ine14afo/Downloads/glove.6B.100d.txt\"\n",
    "embeddings_dict, embedded_words = load(embedding_file)"
   ]
  },
  {
   "cell_type": "code",
   "execution_count": 60,
   "metadata": {},
   "outputs": [
    {
     "data": {
      "text/plain": [
       "[('the',\n",
       "  [-0.038194,\n",
       "   -0.24487,\n",
       "   0.72812,\n",
       "   -0.39961,\n",
       "   0.083172,\n",
       "   0.043953,\n",
       "   -0.39141,\n",
       "   0.3344,\n",
       "   -0.57545,\n",
       "   0.087459,\n",
       "   0.28787,\n",
       "   -0.06731,\n",
       "   0.30906,\n",
       "   -0.26384,\n",
       "   -0.13231,\n",
       "   -0.20757,\n",
       "   0.33395,\n",
       "   -0.33848,\n",
       "   -0.31743,\n",
       "   -0.48336,\n",
       "   0.1464,\n",
       "   -0.37304,\n",
       "   0.34577,\n",
       "   0.052041,\n",
       "   0.44946,\n",
       "   -0.46971,\n",
       "   0.02628,\n",
       "   -0.54155,\n",
       "   -0.15518,\n",
       "   -0.14107,\n",
       "   -0.039722,\n",
       "   0.28277,\n",
       "   0.14393,\n",
       "   0.23464,\n",
       "   -0.31021,\n",
       "   0.086173,\n",
       "   0.20397,\n",
       "   0.52624,\n",
       "   0.17164,\n",
       "   -0.082378,\n",
       "   -0.71787,\n",
       "   -0.41531,\n",
       "   0.20335,\n",
       "   -0.12763,\n",
       "   0.41367,\n",
       "   0.55187,\n",
       "   0.57908,\n",
       "   -0.33477,\n",
       "   -0.36559,\n",
       "   -0.54857,\n",
       "   -0.062892,\n",
       "   0.26584,\n",
       "   0.30205,\n",
       "   0.99775,\n",
       "   -0.80481,\n",
       "   -3.0243,\n",
       "   0.01254,\n",
       "   -0.36942,\n",
       "   2.2167,\n",
       "   0.72201,\n",
       "   -0.24978,\n",
       "   0.92136,\n",
       "   0.034514,\n",
       "   0.46745,\n",
       "   1.1079,\n",
       "   -0.19358,\n",
       "   -0.074575,\n",
       "   0.23353,\n",
       "   -0.052062,\n",
       "   -0.22044,\n",
       "   0.057162,\n",
       "   -0.15806,\n",
       "   -0.30798,\n",
       "   -0.41625,\n",
       "   0.37972,\n",
       "   0.15006,\n",
       "   -0.53212,\n",
       "   -0.2055,\n",
       "   -1.2526,\n",
       "   0.071624,\n",
       "   0.70565,\n",
       "   0.49744,\n",
       "   -0.42063,\n",
       "   0.26148,\n",
       "   -1.538,\n",
       "   -0.30223,\n",
       "   -0.073438,\n",
       "   -0.28312,\n",
       "   0.37104,\n",
       "   -0.25217,\n",
       "   0.016215,\n",
       "   -0.017099,\n",
       "   -0.38984,\n",
       "   0.87424,\n",
       "   -0.72569,\n",
       "   -0.51058,\n",
       "   -0.52028,\n",
       "   -0.1459,\n",
       "   0.8278,\n",
       "   0.27062]),\n",
       " (',',\n",
       "  [-0.10767,\n",
       "   0.11053,\n",
       "   0.59812,\n",
       "   -0.54361,\n",
       "   0.67396,\n",
       "   0.10663,\n",
       "   0.038867,\n",
       "   0.35481,\n",
       "   0.06351,\n",
       "   -0.094189,\n",
       "   0.15786,\n",
       "   -0.81665,\n",
       "   0.14172,\n",
       "   0.21939,\n",
       "   0.58505,\n",
       "   -0.52158,\n",
       "   0.22783,\n",
       "   -0.16642,\n",
       "   -0.68228,\n",
       "   0.3587,\n",
       "   0.42568,\n",
       "   0.19021,\n",
       "   0.91963,\n",
       "   0.57555,\n",
       "   0.46185,\n",
       "   0.42363,\n",
       "   -0.095399,\n",
       "   -0.42749,\n",
       "   -0.16567,\n",
       "   -0.056842,\n",
       "   -0.29595,\n",
       "   0.26037,\n",
       "   -0.26606,\n",
       "   -0.070404,\n",
       "   -0.27662,\n",
       "   0.15821,\n",
       "   0.69825,\n",
       "   0.43081,\n",
       "   0.27952,\n",
       "   -0.45437,\n",
       "   -0.33801,\n",
       "   -0.58184,\n",
       "   0.22364,\n",
       "   -0.5778,\n",
       "   -0.26862,\n",
       "   -0.20425,\n",
       "   0.56394,\n",
       "   -0.58524,\n",
       "   -0.14365,\n",
       "   -0.64218,\n",
       "   0.0054697,\n",
       "   -0.35248,\n",
       "   0.16162,\n",
       "   1.1796,\n",
       "   -0.47674,\n",
       "   -2.7553,\n",
       "   -0.1321,\n",
       "   -0.047729,\n",
       "   1.0655,\n",
       "   1.1034,\n",
       "   -0.2208,\n",
       "   0.18669,\n",
       "   0.13177,\n",
       "   0.15117,\n",
       "   0.7131,\n",
       "   -0.35215,\n",
       "   0.91348,\n",
       "   0.61783,\n",
       "   0.70992,\n",
       "   0.23955,\n",
       "   -0.14571,\n",
       "   -0.37859,\n",
       "   -0.045959,\n",
       "   -0.47368,\n",
       "   0.2385,\n",
       "   0.20536,\n",
       "   -0.18996,\n",
       "   0.32507,\n",
       "   -1.1112,\n",
       "   -0.36341,\n",
       "   0.98679,\n",
       "   -0.084776,\n",
       "   -0.54008,\n",
       "   0.11726,\n",
       "   -1.0194,\n",
       "   -0.24424,\n",
       "   0.12771,\n",
       "   0.013884,\n",
       "   0.080374,\n",
       "   -0.35414,\n",
       "   0.34951,\n",
       "   -0.7226,\n",
       "   0.37549,\n",
       "   0.4441,\n",
       "   -0.99059,\n",
       "   0.61214,\n",
       "   -0.35111,\n",
       "   -0.83155,\n",
       "   0.45293,\n",
       "   0.082577]),\n",
       " ('.',\n",
       "  [-0.33979,\n",
       "   0.20941,\n",
       "   0.46348,\n",
       "   -0.64792,\n",
       "   -0.38377,\n",
       "   0.038034,\n",
       "   0.17127,\n",
       "   0.15978,\n",
       "   0.46619,\n",
       "   -0.019169,\n",
       "   0.41479,\n",
       "   -0.34349,\n",
       "   0.26872,\n",
       "   0.04464,\n",
       "   0.42131,\n",
       "   -0.41032,\n",
       "   0.15459,\n",
       "   0.022239,\n",
       "   -0.64653,\n",
       "   0.25256,\n",
       "   0.043136,\n",
       "   -0.19445,\n",
       "   0.46516,\n",
       "   0.45651,\n",
       "   0.68588,\n",
       "   0.091295,\n",
       "   0.21875,\n",
       "   -0.70351,\n",
       "   0.16785,\n",
       "   -0.35079,\n",
       "   -0.12634,\n",
       "   0.66384,\n",
       "   -0.2582,\n",
       "   0.036542,\n",
       "   -0.13605,\n",
       "   0.40253,\n",
       "   0.14289,\n",
       "   0.38132,\n",
       "   -0.12283,\n",
       "   -0.45886,\n",
       "   -0.25282,\n",
       "   -0.30432,\n",
       "   -0.11215,\n",
       "   -0.26182,\n",
       "   -0.22482,\n",
       "   -0.44554,\n",
       "   0.2991,\n",
       "   -0.85612,\n",
       "   -0.14503,\n",
       "   -0.49086,\n",
       "   0.0082973,\n",
       "   -0.17491,\n",
       "   0.27524,\n",
       "   1.4401,\n",
       "   -0.21239,\n",
       "   -2.8435,\n",
       "   -0.27958,\n",
       "   -0.45722,\n",
       "   1.6386,\n",
       "   0.78808,\n",
       "   -0.55262,\n",
       "   0.65,\n",
       "   0.086426,\n",
       "   0.39012,\n",
       "   1.0632,\n",
       "   -0.35379,\n",
       "   0.48328,\n",
       "   0.346,\n",
       "   0.84174,\n",
       "   0.098707,\n",
       "   -0.24213,\n",
       "   -0.27053,\n",
       "   0.045287,\n",
       "   -0.40147,\n",
       "   0.11395,\n",
       "   0.0062226,\n",
       "   0.036673,\n",
       "   0.018518,\n",
       "   -1.0213,\n",
       "   -0.20806,\n",
       "   0.64072,\n",
       "   -0.068763,\n",
       "   -0.58635,\n",
       "   0.33476,\n",
       "   -1.1432,\n",
       "   -0.1148,\n",
       "   -0.25091,\n",
       "   -0.45907,\n",
       "   -0.096819,\n",
       "   -0.17946,\n",
       "   -0.063351,\n",
       "   -0.67412,\n",
       "   -0.068895,\n",
       "   0.53604,\n",
       "   -0.87773,\n",
       "   0.31802,\n",
       "   -0.39242,\n",
       "   -0.23394,\n",
       "   0.47298,\n",
       "   -0.028803]),\n",
       " ('of',\n",
       "  [-0.1529,\n",
       "   -0.24279,\n",
       "   0.89837,\n",
       "   0.16996,\n",
       "   0.53516,\n",
       "   0.48784,\n",
       "   -0.58826,\n",
       "   -0.17982,\n",
       "   -1.3581,\n",
       "   0.42541,\n",
       "   0.15377,\n",
       "   0.24215,\n",
       "   0.13474,\n",
       "   0.41193,\n",
       "   0.67043,\n",
       "   -0.56418,\n",
       "   0.42985,\n",
       "   -0.012183,\n",
       "   -0.11677,\n",
       "   0.31781,\n",
       "   0.054177,\n",
       "   -0.054273,\n",
       "   0.35516,\n",
       "   -0.30241,\n",
       "   0.31434,\n",
       "   -0.33846,\n",
       "   0.71715,\n",
       "   -0.26855,\n",
       "   -0.15837,\n",
       "   -0.47467,\n",
       "   0.051581,\n",
       "   -0.33252,\n",
       "   0.15003,\n",
       "   -0.1299,\n",
       "   -0.54617,\n",
       "   -0.37843,\n",
       "   0.64261,\n",
       "   0.82187,\n",
       "   -0.080006,\n",
       "   0.078479,\n",
       "   -0.96976,\n",
       "   -0.57741,\n",
       "   0.56491,\n",
       "   -0.39873,\n",
       "   -0.057099,\n",
       "   0.19743,\n",
       "   0.065706,\n",
       "   -0.48092,\n",
       "   -0.20125,\n",
       "   -0.40834,\n",
       "   0.39456,\n",
       "   -0.02642,\n",
       "   -0.11838,\n",
       "   1.012,\n",
       "   -0.53171,\n",
       "   -2.7474,\n",
       "   -0.042981,\n",
       "   -0.74849,\n",
       "   1.7574,\n",
       "   0.59085,\n",
       "   0.04885,\n",
       "   0.78267,\n",
       "   0.38497,\n",
       "   0.42097,\n",
       "   0.67882,\n",
       "   0.10337,\n",
       "   0.6328,\n",
       "   -0.026595,\n",
       "   0.58647,\n",
       "   -0.44332,\n",
       "   0.33057,\n",
       "   -0.12022,\n",
       "   -0.55645,\n",
       "   0.073611,\n",
       "   0.20915,\n",
       "   0.43395,\n",
       "   -0.012761,\n",
       "   0.089874,\n",
       "   -1.7991,\n",
       "   0.084808,\n",
       "   0.77112,\n",
       "   0.63105,\n",
       "   -0.90685,\n",
       "   0.60326,\n",
       "   -1.7515,\n",
       "   0.18596,\n",
       "   -0.50687,\n",
       "   -0.70203,\n",
       "   0.66578,\n",
       "   -0.81304,\n",
       "   0.18712,\n",
       "   -0.018488,\n",
       "   -0.26757,\n",
       "   0.727,\n",
       "   -0.59363,\n",
       "   -0.34839,\n",
       "   -0.56094,\n",
       "   -0.591,\n",
       "   1.0039,\n",
       "   0.20664]),\n",
       " ('to',\n",
       "  [-0.1897,\n",
       "   0.050024,\n",
       "   0.19084,\n",
       "   -0.049184,\n",
       "   -0.089737,\n",
       "   0.21006,\n",
       "   -0.54952,\n",
       "   0.098377,\n",
       "   -0.20135,\n",
       "   0.34241,\n",
       "   -0.092677,\n",
       "   0.161,\n",
       "   -0.13268,\n",
       "   -0.2816,\n",
       "   0.18737,\n",
       "   -0.42959,\n",
       "   0.96039,\n",
       "   0.13972,\n",
       "   -1.0781,\n",
       "   0.40518,\n",
       "   0.50539,\n",
       "   -0.55064,\n",
       "   0.4844,\n",
       "   0.38044,\n",
       "   -0.0029055,\n",
       "   -0.34942,\n",
       "   -0.099696,\n",
       "   -0.78368,\n",
       "   1.0363,\n",
       "   -0.2314,\n",
       "   -0.47121,\n",
       "   0.57126,\n",
       "   -0.21454,\n",
       "   0.35958,\n",
       "   -0.48319,\n",
       "   1.0875,\n",
       "   0.28524,\n",
       "   0.12447,\n",
       "   -0.039248,\n",
       "   -0.076732,\n",
       "   -0.76343,\n",
       "   -0.32409,\n",
       "   -0.5749,\n",
       "   -1.0893,\n",
       "   -0.41811,\n",
       "   0.4512,\n",
       "   0.12112,\n",
       "   -0.51367,\n",
       "   -0.13349,\n",
       "   -1.1378,\n",
       "   -0.28768,\n",
       "   0.16774,\n",
       "   0.55804,\n",
       "   1.5387,\n",
       "   0.018859,\n",
       "   -2.9721,\n",
       "   -0.24216,\n",
       "   -0.92495,\n",
       "   2.1992,\n",
       "   0.28234,\n",
       "   -0.3478,\n",
       "   0.51621,\n",
       "   -0.43387,\n",
       "   0.36852,\n",
       "   0.74573,\n",
       "   0.072102,\n",
       "   0.27931,\n",
       "   0.92569,\n",
       "   -0.050336,\n",
       "   -0.85856,\n",
       "   -0.1358,\n",
       "   -0.92551,\n",
       "   -0.33991,\n",
       "   -1.0394,\n",
       "   -0.067203,\n",
       "   -0.21379,\n",
       "   -0.4769,\n",
       "   0.21377,\n",
       "   -0.84008,\n",
       "   0.052536,\n",
       "   0.59298,\n",
       "   0.29604,\n",
       "   -0.67644,\n",
       "   0.13916,\n",
       "   -1.5504,\n",
       "   -0.20765,\n",
       "   0.7222,\n",
       "   0.52056,\n",
       "   -0.076221,\n",
       "   -0.15194,\n",
       "   -0.13134,\n",
       "   0.058617,\n",
       "   -0.31869,\n",
       "   -0.61419,\n",
       "   -0.62393,\n",
       "   -0.41548,\n",
       "   -0.038175,\n",
       "   -0.39804,\n",
       "   0.47647,\n",
       "   -0.15983])]"
      ]
     },
     "execution_count": 60,
     "metadata": {},
     "output_type": "execute_result"
    }
   ],
   "source": [
    "def parse(x):\n",
    "    splitted = x.split()\n",
    "    numbers = splitted[1:]\n",
    "    words = splitted[0]\n",
    "    numb = [float(x) for x in numbers]\n",
    "    return words, numb\n",
    "\n",
    "split = glove6B.map(parse)\n",
    "\n",
    "split.take(5)\n"
   ]
  },
  {
   "cell_type": "markdown",
   "metadata": {},
   "source": [
    "**Task 19:** Filter out the top 10000 embeddings using the provided broadcast ```top10000_set``` which uses the previous ```top10000```variable and use [collectAsMap](https://spark.apache.org/docs/2.4.0/api/python/pyspark.html#pyspark.RDD.collectAsMap) to get a dictionary of the words"
   ]
  },
  {
   "cell_type": "code",
   "execution_count": 70,
   "metadata": {},
   "outputs": [],
   "source": [
    "top10000_set = sc.broadcast(set([word for word, cnt in top10000]))"
   ]
  },
  {
   "cell_type": "code",
   "execution_count": 71,
   "metadata": {},
   "outputs": [],
   "source": [
    "top10000_emb = split.filter(lambda x: x[0] in top10000_set.value).collectAsMap()"
   ]
  },
  {
   "cell_type": "code",
   "execution_count": 82,
   "metadata": {},
   "outputs": [
    {
     "data": {
      "text/plain": [
       "['the', ',', '.', 'of', 'to']"
      ]
     },
     "execution_count": 82,
     "metadata": {},
     "output_type": "execute_result"
    }
   ],
   "source": [
    "list(top10000_emb.keys())[:5]"
   ]
  },
  {
   "cell_type": "markdown",
   "metadata": {},
   "source": [
    "Not all 10 000 words exists in Glove, **9 962** is the expected count"
   ]
  },
  {
   "cell_type": "code",
   "execution_count": 75,
   "metadata": {},
   "outputs": [
    {
     "data": {
      "text/plain": [
       "9781"
      ]
     },
     "execution_count": 75,
     "metadata": {},
     "output_type": "execute_result"
    }
   ],
   "source": [
    "# Get 9781 instead of expected 9962\n",
    "len(top10000_emb)"
   ]
  },
  {
   "cell_type": "markdown",
   "metadata": {},
   "source": [
    "**Task 20:** Produce the X that we will cluster.\n",
    "\n",
    "1. Produce a sorted list of tokens\n",
    "2. Transform list into a list of embeddings and create a numpy array from it"
   ]
  },
  {
   "cell_type": "code",
   "execution_count": 83,
   "metadata": {},
   "outputs": [],
   "source": [
    "keylist = sorted(list(top10000_emb.keys()))"
   ]
  },
  {
   "cell_type": "code",
   "execution_count": 84,
   "metadata": {},
   "outputs": [],
   "source": [
    "X = [top10000_emb[token] for token in keylist]\n",
    "X = np.asarray(X)"
   ]
  },
  {
   "cell_type": "markdown",
   "metadata": {},
   "source": [
    "## Part 4: Cluster X using KMeans and visualize the results\n",
    "\n",
    " * Cluster these embeddings into 100 clusters using [KMeans](https://scikit-learn.org/stable/modules/generated/sklearn.cluster.KMeans.html#sklearn.cluster.KMeans) from scikit-learn\n",
    " * Visualize the results"
   ]
  },
  {
   "cell_type": "code",
   "execution_count": 85,
   "metadata": {},
   "outputs": [],
   "source": [
    "from sklearn.manifold import TSNE\n",
    "from sklearn.cluster import KMeans"
   ]
  },
  {
   "cell_type": "code",
   "execution_count": 86,
   "metadata": {},
   "outputs": [],
   "source": [
    "# Cluster into 100 clusters\n",
    "# Use all available processors\n",
    "# Make intialization deterministic by using type int for random_state\n",
    "kmeans = KMeans(n_clusters=100, n_jobs=-1, random_state=2018)"
   ]
  },
  {
   "cell_type": "code",
   "execution_count": 87,
   "metadata": {},
   "outputs": [
    {
     "data": {
      "text/plain": [
       "KMeans(algorithm='auto', copy_x=True, init='k-means++', max_iter=300,\n",
       "    n_clusters=100, n_init=10, n_jobs=-1, precompute_distances='auto',\n",
       "    random_state=2018, tol=0.0001, verbose=0)"
      ]
     },
     "execution_count": 87,
     "metadata": {},
     "output_type": "execute_result"
    }
   ],
   "source": [
    "kmeans.fit(X)"
   ]
  },
  {
   "cell_type": "markdown",
   "metadata": {},
   "source": [
    "The code below computes the score which follows this equation:\n",
    "\n",
    "\\begin{equation*}\n",
    "-\\sum_{i=1}^n (\\sum_{k=1}^{100} (x_{i,k} - {xc}_{i,k})^2)\n",
    "\\end{equation*}\n",
    "\n",
    "Where $x$ is the embedding, $xc$ is the assigned cluster center.\n",
    "\n",
    "*In words:* It is the negative sum of squared differences per dimension (100d)."
   ]
  },
  {
   "cell_type": "code",
   "execution_count": 88,
   "metadata": {},
   "outputs": [
    {
     "data": {
      "text/plain": [
       "-160910.0571778964"
      ]
     },
     "execution_count": 88,
     "metadata": {},
     "output_type": "execute_result"
    }
   ],
   "source": [
    "kmeans.score(X)"
   ]
  },
  {
   "cell_type": "markdown",
   "metadata": {},
   "source": [
    "**Task 21:** Predict clusters, the output will be indicies. You will find how in the documentation of [KMeans](https://scikit-learn.org/stable/modules/generated/sklearn.cluster.KMeans.html#sklearn.cluster.KMeans)."
   ]
  },
  {
   "cell_type": "code",
   "execution_count": 89,
   "metadata": {},
   "outputs": [],
   "source": [
    "# Compute cluster centers and predict cluster index for each sample.\n",
    "\n",
    "X_clusters = kmeans.fit_predict(X)"
   ]
  },
  {
   "cell_type": "code",
   "execution_count": 96,
   "metadata": {},
   "outputs": [
    {
     "data": {
      "text/plain": [
       "array([42, 70, 56, 32, 73, 70, 42, 42, 42, 35, 42,  4, 42, 61, 61, 35, 35,\n",
       "        4,  4, 35, 35, 35, 35, 35, 35, 35, 35, 35, 35, 35, 35, 35, 35, 35,\n",
       "       35, 35, 35, 35, 35,  4, 35, 61, 32, 32, 32, 32, 32, 32, 32, 35,  3,\n",
       "       35, 61, 27, 27, 27, 32, 32, 32, 32, 32, 32, 32, 32, 32, 61, 27, 27,\n",
       "       27, 27, 52, 52, 52, 52, 52, 52, 52, 52, 52, 61, 52, 52, 52, 52, 61,\n",
       "       27, 52, 52, 52, 61, 52, 52, 61, 52, 61, 27, 27, 27, 61, 52],\n",
       "      dtype=int32)"
      ]
     },
     "execution_count": 96,
     "metadata": {},
     "output_type": "execute_result"
    }
   ],
   "source": [
    "X_clusters[:100]"
   ]
  },
  {
   "cell_type": "markdown",
   "metadata": {},
   "source": [
    "**Task 22:** Create mapping from word to cluster"
   ]
  },
  {
   "cell_type": "code",
   "execution_count": 97,
   "metadata": {},
   "outputs": [],
   "source": [
    "word_cluster = dict(zip(keylist,X_clusters))"
   ]
  },
  {
   "cell_type": "markdown",
   "metadata": {},
   "source": [
    "**Task 23:** Create mapping from cluster to all words in cluster"
   ]
  },
  {
   "cell_type": "code",
   "execution_count": 99,
   "metadata": {},
   "outputs": [
    {
     "data": {
      "text/plain": [
       "dict"
      ]
     },
     "execution_count": 99,
     "metadata": {},
     "output_type": "execute_result"
    }
   ],
   "source": [
    "# 100 clusters\n",
    "clusters = {i: [] for i in range(0,100)}\n",
    "\n",
    "for (word, cluster) in word_cluster.items():\n",
    "    clusters[cluster].append(word)\n",
    "    \n",
    "type (clusters)"
   ]
  },
  {
   "cell_type": "code",
   "execution_count": 104,
   "metadata": {},
   "outputs": [
    {
     "data": {
      "text/plain": [
       "['adventures',\n",
       " 'alien',\n",
       " 'apollo',\n",
       " 'arrow',\n",
       " 'asteroid',\n",
       " 'atlas',\n",
       " 'batman',\n",
       " 'bear',\n",
       " 'beast',\n",
       " 'bee',\n",
       " 'bull',\n",
       " 'cage',\n",
       " 'cat',\n",
       " 'cats',\n",
       " 'circus',\n",
       " 'constellation',\n",
       " 'creature',\n",
       " 'creatures',\n",
       " 'crow',\n",
       " 'demon',\n",
       " 'devil',\n",
       " 'diamond',\n",
       " 'dog',\n",
       " 'dogs',\n",
       " 'dragon',\n",
       " 'dragons',\n",
       " 'dubbed',\n",
       " 'duck',\n",
       " 'dwarf',\n",
       " 'eagle',\n",
       " 'eclipse',\n",
       " 'elephant',\n",
       " 'fairy',\n",
       " 'fury',\n",
       " 'galaxy',\n",
       " 'genesis',\n",
       " 'ghost',\n",
       " 'golden',\n",
       " 'hawk',\n",
       " 'horse',\n",
       " 'horses',\n",
       " 'hunt',\n",
       " 'hunters',\n",
       " 'hunting',\n",
       " 'jungle',\n",
       " 'jupiter',\n",
       " 'killer',\n",
       " 'kiss',\n",
       " 'knights',\n",
       " 'lantern',\n",
       " 'legend',\n",
       " 'lion',\n",
       " 'lone',\n",
       " 'mad',\n",
       " 'magic',\n",
       " 'mars',\n",
       " 'mascot',\n",
       " 'mega',\n",
       " 'mighty',\n",
       " 'monkey',\n",
       " 'monster',\n",
       " 'monsters',\n",
       " 'moon',\n",
       " 'mouse',\n",
       " 'naked',\n",
       " 'nicknamed',\n",
       " 'paradise',\n",
       " 'pen',\n",
       " 'pet',\n",
       " 'phantom',\n",
       " 'pig',\n",
       " 'pirate',\n",
       " 'planet',\n",
       " 'poison',\n",
       " 'polar',\n",
       " 'rabbit',\n",
       " 'rainbow',\n",
       " 'rat',\n",
       " 'reel',\n",
       " 'robot',\n",
       " 'rogue',\n",
       " 'saga',\n",
       " 'sailor',\n",
       " 'seals',\n",
       " 'shadow',\n",
       " 'shark',\n",
       " 'sky',\n",
       " 'snake',\n",
       " 'sonic',\n",
       " 'spider',\n",
       " 'superman',\n",
       " 'swan',\n",
       " 'sword',\n",
       " 'thunder',\n",
       " 'tiger',\n",
       " 'toy',\n",
       " 'treasure',\n",
       " 'trek',\n",
       " 'tricks',\n",
       " 'vampire',\n",
       " 'warrior',\n",
       " 'witch',\n",
       " 'wizard',\n",
       " 'wolf',\n",
       " 'wolves',\n",
       " 'zoo']"
      ]
     },
     "execution_count": 104,
     "metadata": {},
     "output_type": "execute_result"
    }
   ],
   "source": [
    "# Test if clusters contain similar words\n",
    "clusters[36]"
   ]
  },
  {
   "cell_type": "markdown",
   "metadata": {},
   "source": [
    "**Task 24**: Create a list of all cluster sizes, i.e. the number of words in each cluster"
   ]
  },
  {
   "cell_type": "code",
   "execution_count": 110,
   "metadata": {},
   "outputs": [
    {
     "data": {
      "text/plain": [
       "array([ 43,  92, 112,  99, 120,  61, 121, 114, 111,  87, 100,  90, 151,\n",
       "       195, 156,  49,  82,  79,  92, 120,  71,  59,  82,  41, 158, 117,\n",
       "        90,  69,  54,  66, 106, 157,  42, 115, 144, 121, 106, 171, 151,\n",
       "        58,  74,  64, 166, 114,  51, 154,  69,  70, 124,  99, 104, 114,\n",
       "        97, 130,  89,  63, 136,  96,  86, 102,  51,  40, 156,  82,  86,\n",
       "        49,  56,  63,  76,  76, 169,  94, 164, 103,  88, 160, 112, 119,\n",
       "        83,  84, 127,  96,  90, 151,  83,  49,  68, 105,  82, 138, 113,\n",
       "        70,  73,  63, 107,  64,  70,  84,  90,  93])"
      ]
     },
     "execution_count": 110,
     "metadata": {},
     "output_type": "execute_result"
    }
   ],
   "source": [
    "cluster_size = np.arange(100)\n",
    "\n",
    "for (cluster, words) in clusters.items():\n",
    "    cluster_size [cluster] = len(words)\n",
    "\n",
    "cluster_size"
   ]
  },
  {
   "cell_type": "markdown",
   "metadata": {},
   "source": [
    "Plot the histogram"
   ]
  },
  {
   "cell_type": "code",
   "execution_count": 117,
   "metadata": {},
   "outputs": [
    {
     "data": {
      "text/plain": [
       "(array([4., 0., 3., 2., 1., 2., 2., 5., 1., 6., 3., 2., 1., 6., 4., 3., 6.,\n",
       "        2., 3., 3., 4., 3., 1., 6., 2., 3., 2., 1., 1., 1., 1., 1., 0., 1.,\n",
       "        0., 3., 1., 3., 2., 0., 2., 1., 1., 0., 0., 0., 0., 0., 0., 1.]),\n",
       " array([ 40. ,  43.1,  46.2,  49.3,  52.4,  55.5,  58.6,  61.7,  64.8,\n",
       "         67.9,  71. ,  74.1,  77.2,  80.3,  83.4,  86.5,  89.6,  92.7,\n",
       "         95.8,  98.9, 102. , 105.1, 108.2, 111.3, 114.4, 117.5, 120.6,\n",
       "        123.7, 126.8, 129.9, 133. , 136.1, 139.2, 142.3, 145.4, 148.5,\n",
       "        151.6, 154.7, 157.8, 160.9, 164. , 167.1, 170.2, 173.3, 176.4,\n",
       "        179.5, 182.6, 185.7, 188.8, 191.9, 195. ]),\n",
       " <a list of 50 Patch objects>)"
      ]
     },
     "execution_count": 117,
     "metadata": {},
     "output_type": "execute_result"
    },
    {
     "data": {
      "image/png": "[encoded data removed]",
      "text/plain": [
       "<Figure size 432x288 with 1 Axes>"
      ]
     },
     "metadata": {},
     "output_type": "display_data"
    }
   ],
   "source": [
    "plt.hist(cluster_size, bins=50)"
   ]
  },
  {
   "cell_type": "code",
   "execution_count": 121,
   "metadata": {},
   "outputs": [
    {
     "data": {
      "text/plain": [
       "['a.',\n",
       " 'abraham',\n",
       " 'alfred',\n",
       " 'analyst',\n",
       " 'andrew',\n",
       " 'anthony',\n",
       " 'arnold',\n",
       " 'arthur',\n",
       " 'b.',\n",
       " 'benjamin',\n",
       " 'c.',\n",
       " 'cecil',\n",
       " 'charles',\n",
       " 'christopher',\n",
       " 'clarence',\n",
       " 'd.',\n",
       " 'daniel',\n",
       " 'dean',\n",
       " 'donald',\n",
       " 'douglas',\n",
       " 'dr',\n",
       " 'dr.',\n",
       " 'e.',\n",
       " 'edgar',\n",
       " 'edmund',\n",
       " 'edward',\n",
       " 'edwin',\n",
       " 'ernest',\n",
       " 'eugene',\n",
       " 'f.',\n",
       " 'francis',\n",
       " 'frank',\n",
       " 'franklin',\n",
       " 'frederick',\n",
       " 'g.',\n",
       " 'geoffrey',\n",
       " 'george',\n",
       " 'gerald',\n",
       " 'gregory',\n",
       " 'h.',\n",
       " 'harold',\n",
       " 'harry',\n",
       " 'henry',\n",
       " 'herbert',\n",
       " 'hugh',\n",
       " 'i.',\n",
       " 'isaac',\n",
       " 'j.',\n",
       " 'james',\n",
       " 'jeffrey',\n",
       " 'john',\n",
       " 'joseph',\n",
       " 'jr.',\n",
       " 'k.',\n",
       " 'kennedy',\n",
       " 'kenneth',\n",
       " 'l.',\n",
       " 'lawrence',\n",
       " 'leonard',\n",
       " 'lincoln',\n",
       " 'luther',\n",
       " 'm.',\n",
       " 'n.',\n",
       " 'nicholas',\n",
       " 'nixon',\n",
       " 'o.',\n",
       " 'oliver',\n",
       " 'p.',\n",
       " 'paul',\n",
       " 'peter',\n",
       " 'philip',\n",
       " 'r.',\n",
       " 'ralph',\n",
       " 'raymond',\n",
       " 'richard',\n",
       " 'robert',\n",
       " 'ronald',\n",
       " 'roosevelt',\n",
       " 's.',\n",
       " 'samuel',\n",
       " 'sir',\n",
       " 'stanley',\n",
       " 'stephen',\n",
       " 't.',\n",
       " 'theodore',\n",
       " 'thomas',\n",
       " 'timothy',\n",
       " 'v.',\n",
       " 'vincent',\n",
       " 'w.',\n",
       " 'walter',\n",
       " 'warren',\n",
       " 'william']"
      ]
     },
     "execution_count": 121,
     "metadata": {},
     "output_type": "execute_result"
    }
   ],
   "source": [
    "# Smallest\n",
    "min_index = 0\n",
    "min_size = 200\n",
    "for (i, size) in zip(range(100), cluster_size):\n",
    "    if size < min_size:\n",
    "        min_index = i\n",
    "        \n",
    "clusters[i]"
   ]
  },
  {
   "cell_type": "code",
   "execution_count": 122,
   "metadata": {},
   "outputs": [
    {
     "data": {
      "text/plain": [
       "['adams',\n",
       " 'allan',\n",
       " 'allen',\n",
       " 'anderson',\n",
       " 'andrews',\n",
       " 'armstrong',\n",
       " 'ashley',\n",
       " 'austin',\n",
       " 'bailey',\n",
       " 'baker',\n",
       " 'barber',\n",
       " 'barnes',\n",
       " 'bates',\n",
       " 'bell',\n",
       " 'bennett',\n",
       " 'benson',\n",
       " 'blake',\n",
       " 'bradley',\n",
       " 'brady',\n",
       " 'brandon',\n",
       " 'brooks',\n",
       " 'brown',\n",
       " 'bryant',\n",
       " 'burke',\n",
       " 'burton',\n",
       " 'butler',\n",
       " 'byron',\n",
       " 'cameron',\n",
       " 'campbell',\n",
       " 'carey',\n",
       " 'carlton',\n",
       " 'carr',\n",
       " 'carroll',\n",
       " 'carson',\n",
       " 'carter',\n",
       " 'chandler',\n",
       " 'chapman',\n",
       " 'chase',\n",
       " 'christie',\n",
       " 'clark',\n",
       " 'clarke',\n",
       " 'clayton',\n",
       " 'cohen',\n",
       " 'cole',\n",
       " 'coleman',\n",
       " 'collins',\n",
       " 'cooper',\n",
       " 'crawford',\n",
       " 'curtis',\n",
       " 'dale',\n",
       " 'davidson',\n",
       " 'davies',\n",
       " 'davis',\n",
       " 'dawson',\n",
       " 'dixon',\n",
       " 'duncan',\n",
       " 'edwards',\n",
       " 'elliott',\n",
       " 'ellis',\n",
       " 'evans',\n",
       " 'ferguson',\n",
       " 'fisher',\n",
       " 'fitzgerald',\n",
       " 'fleming',\n",
       " 'fletcher',\n",
       " 'foster',\n",
       " 'fraser',\n",
       " 'freeman',\n",
       " 'gardner',\n",
       " 'gibson',\n",
       " 'giles',\n",
       " 'glen',\n",
       " 'graham',\n",
       " 'grant',\n",
       " 'greene',\n",
       " 'griffin',\n",
       " 'hamilton',\n",
       " 'harper',\n",
       " 'harris',\n",
       " 'harrison',\n",
       " 'hart',\n",
       " 'harvey',\n",
       " 'hawkins',\n",
       " 'hayes',\n",
       " 'heath',\n",
       " 'henderson',\n",
       " 'holmes',\n",
       " 'hopkins',\n",
       " 'howard',\n",
       " 'hudson',\n",
       " 'hughes',\n",
       " 'hyde',\n",
       " 'jackson',\n",
       " 'jefferson',\n",
       " 'jenkins',\n",
       " 'jerome',\n",
       " 'johnson',\n",
       " 'johnston',\n",
       " 'jones',\n",
       " 'kelly',\n",
       " 'lewis',\n",
       " 'lloyd',\n",
       " 'logan',\n",
       " 'lynch',\n",
       " 'macdonald',\n",
       " 'malcolm',\n",
       " 'manning',\n",
       " 'marcus',\n",
       " 'marsh',\n",
       " 'marshall',\n",
       " 'mason',\n",
       " 'mccarthy',\n",
       " 'mcdonald',\n",
       " 'miller',\n",
       " 'mills',\n",
       " 'mitchell',\n",
       " 'montgomery',\n",
       " 'moore',\n",
       " 'morgan',\n",
       " 'morris',\n",
       " 'morrison',\n",
       " 'morton',\n",
       " 'moss',\n",
       " 'murphy',\n",
       " 'murray',\n",
       " 'nash',\n",
       " 'nathan',\n",
       " 'nelson',\n",
       " 'newman',\n",
       " 'owen',\n",
       " 'palmer',\n",
       " 'parker',\n",
       " 'patterson',\n",
       " 'penn',\n",
       " 'perkins',\n",
       " 'perry',\n",
       " 'peterson',\n",
       " 'phillips',\n",
       " 'pierce',\n",
       " 'porter',\n",
       " 'preston',\n",
       " 'quinn',\n",
       " 'reed',\n",
       " 'reid',\n",
       " 'reynolds',\n",
       " 'rhodes',\n",
       " 'richards',\n",
       " 'richardson',\n",
       " 'riley',\n",
       " 'roberts',\n",
       " 'robertson',\n",
       " 'robinson',\n",
       " 'rogers',\n",
       " 'ross',\n",
       " 'russell',\n",
       " 'sanders',\n",
       " 'shannon',\n",
       " 'shaw',\n",
       " 'sherman',\n",
       " 'sidney',\n",
       " 'sinclair',\n",
       " 'smith',\n",
       " 'spencer',\n",
       " 'sr.',\n",
       " 'stafford',\n",
       " 'sterling',\n",
       " 'stevens',\n",
       " 'stevenson',\n",
       " 'stewart',\n",
       " 'stuart',\n",
       " 'sullivan',\n",
       " 'taylor',\n",
       " 'thompson',\n",
       " 'tracy',\n",
       " 'trent',\n",
       " 'troy',\n",
       " 'tucker',\n",
       " 'turner',\n",
       " 'tyler',\n",
       " 'vernon',\n",
       " 'wade',\n",
       " 'walker',\n",
       " 'wallace',\n",
       " 'walsh',\n",
       " 'ward',\n",
       " 'watson',\n",
       " 'webb',\n",
       " 'webster',\n",
       " 'wells',\n",
       " 'whitney',\n",
       " 'williams',\n",
       " 'willis',\n",
       " 'wilson',\n",
       " 'winston',\n",
       " 'wright']"
      ]
     },
     "execution_count": 122,
     "metadata": {},
     "output_type": "execute_result"
    }
   ],
   "source": [
    "# Largest cluster \n",
    "clusters[13]"
   ]
  },
  {
   "cell_type": "markdown",
   "metadata": {},
   "source": [
    "**Optionally:** Look at the words in the smallest and largest cluster, do you see any structure?"
   ]
  },
  {
   "cell_type": "code",
   "execution_count": null,
   "metadata": {},
   "outputs": [],
   "source": [
    "# They both contain names"
   ]
  },
  {
   "cell_type": "markdown",
   "metadata": {},
   "source": [
    "**Task 25:** Implement the get_nearby function"
   ]
  },
  {
   "cell_type": "code",
   "execution_count": 123,
   "metadata": {},
   "outputs": [],
   "source": [
    "def get_nearby(word):\n",
    "    \"\"\"\n",
    "    Get all words from the same cluster as the input\n",
    "    \n",
    "    Returns: list of words having the same cluster\n",
    "    \"\"\"\n",
    "    \n",
    "    # get cluster connected to key word\n",
    "    thiscluster = word_cluster[word]\n",
    "    \n",
    "    # get list of words in the same cluster\n",
    "    words = clusters[thiscluster]\n",
    "    \n",
    "    return words"
   ]
  },
  {
   "cell_type": "code",
   "execution_count": 136,
   "metadata": {},
   "outputs": [
    {
     "data": {
      "text/plain": [
       "['albania',\n",
       " 'armenia',\n",
       " 'austria',\n",
       " 'azerbaijan',\n",
       " 'baltic',\n",
       " 'belarus',\n",
       " 'belgium',\n",
       " 'bosnia',\n",
       " 'bulgaria',\n",
       " 'canada',\n",
       " 'croatia',\n",
       " 'cyprus',\n",
       " 'czech',\n",
       " 'czechoslovakia',\n",
       " 'denmark',\n",
       " 'estonia',\n",
       " 'eu',\n",
       " 'finland',\n",
       " 'france',\n",
       " 'germany',\n",
       " 'greece',\n",
       " 'herzegovina',\n",
       " 'hungary',\n",
       " 'iceland',\n",
       " 'ireland',\n",
       " 'italy',\n",
       " 'japan',\n",
       " 'kazakhstan',\n",
       " 'kosovo',\n",
       " 'latvia',\n",
       " 'lithuania',\n",
       " 'luxembourg',\n",
       " 'macedonia',\n",
       " 'malta',\n",
       " 'montenegro',\n",
       " 'netherlands',\n",
       " 'norway',\n",
       " 'poland',\n",
       " 'portugal',\n",
       " 'republic',\n",
       " 'romania',\n",
       " 'russia',\n",
       " 'serbia',\n",
       " 'slovakia',\n",
       " 'slovenia',\n",
       " 'sweden',\n",
       " 'switzerland',\n",
       " 'turkey',\n",
       " 'ukraine',\n",
       " 'ussr',\n",
       " 'yugoslavia']"
      ]
     },
     "execution_count": 136,
     "metadata": {},
     "output_type": "execute_result"
    }
   ],
   "source": [
    "get_nearby(\"sweden\")"
   ]
  },
  {
   "cell_type": "code",
   "execution_count": 137,
   "metadata": {},
   "outputs": [],
   "source": [
    "words = [\"king\", \"sweden\", \"obama\", \"home\", \"learning\"]\n",
    "clusters = [get_nearby(word) for word in words]\n",
    "cluster_colors = [\"red\", \"green\", \"blue\", \"purple\", \"teal\"] # HTML colors are allowed inside here."
   ]
  },
  {
   "cell_type": "markdown",
   "metadata": {},
   "source": [
    "Flatten words and clusters"
   ]
  },
  {
   "cell_type": "code",
   "execution_count": 138,
   "metadata": {},
   "outputs": [],
   "source": [
    "all_words = [word for cluster in clusters for word in cluster]\n",
    "all_cluster_color = [\n",
    "    cluster_color for cluster_color_array in \n",
    "    (\n",
    "        [color] * len(cluster)\n",
    "        for cluster, color in \n",
    "        zip(clusters, cluster_colors)\n",
    "    )\n",
    "    for cluster_color\n",
    "    in cluster_color_array\n",
    "]"
   ]
  },
  {
   "cell_type": "markdown",
   "metadata": {},
   "source": [
    "**Task 26:** Use ```all_words``` and translate into a numpy array called ```X_words``` of all embeddings"
   ]
  },
  {
   "cell_type": "code",
   "execution_count": 139,
   "metadata": {},
   "outputs": [],
   "source": [
    "# vstack creates vertically stacked array\n",
    "# puts all embeddings in array in same order as all_words\n",
    "\n",
    "X_words = np.vstack([top10000_emb.get(w)] for w in all_words)"
   ]
  },
  {
   "cell_type": "markdown",
   "metadata": {},
   "source": [
    "[**TSNE**](https://scikit-learn.org/stable/modules/generated/sklearn.manifold.TSNE.html#sklearn.manifold.TSNE) is a dimensionality reduction algorithm useful for projecting high dimensional data into a low dimensional space such as 2D, which we can plot and more easily understand spatially."
   ]
  },
  {
   "cell_type": "code",
   "execution_count": 140,
   "metadata": {},
   "outputs": [],
   "source": [
    "tsne = TSNE(n_components=2, random_state=2018)"
   ]
  },
  {
   "cell_type": "code",
   "execution_count": 141,
   "metadata": {},
   "outputs": [],
   "source": [
    "X_pos = tsne.fit_transform(X_words)"
   ]
  },
  {
   "cell_type": "markdown",
   "metadata": {},
   "source": [
    "The code below makes a large plot using Matplotlib and attaches labels to all points. It provided for reference and a fallback if the more advanced visualization fails."
   ]
  },
  {
   "cell_type": "code",
   "execution_count": 142,
   "metadata": {},
   "outputs": [
    {
     "data": {
      "image/png": "[encoded data removed]",
      "text/plain": [
       "<Figure size 2304x2304 with 1 Axes>"
      ]
     },
     "metadata": {},
     "output_type": "display_data"
    }
   ],
   "source": [
    "# Visualize using matplotlib and produce an image of the points and words\n",
    "labels = all_words\n",
    "x = []\n",
    "y = []\n",
    "for x_val,y_val in X_pos:\n",
    "    x.append(x_val)\n",
    "    y.append(y_val)\n",
    "\n",
    "plt.figure(figsize=(32, 32)) \n",
    "for i in range(len(x)):\n",
    "    plt.scatter(x[i],y[i])\n",
    "    plt.annotate(labels[i],\n",
    "                 xy=(x[i], y[i]),\n",
    "                 xytext=(5, 2),\n",
    "                 textcoords='offset points',\n",
    "                 ha='right',\n",
    "                 va='bottom')\n",
    "plt.show()"
   ]
  },
  {
   "cell_type": "markdown",
   "metadata": {},
   "source": [
    "### Interactive Visualization: D3.js\n",
    "The cells below will produce a HTML file that has the previously plotted image embedded as JSON.\n",
    "\n",
    "The code below is provided for visualization purposes: to understand it is not a requirement.\n",
    "\n",
    "The standard output is ```visualize.html```"
   ]
  },
  {
   "cell_type": "code",
   "execution_count": 143,
   "metadata": {},
   "outputs": [],
   "source": [
    "import json"
   ]
  },
  {
   "cell_type": "code",
   "execution_count": 144,
   "metadata": {},
   "outputs": [],
   "source": [
    "# Scale to fit box of dimensions below\n",
    "WIDTH = 768.0\n",
    "HEIGHT = 768.0\n",
    "OUTPUT_FILE = \"visualize.html\""
   ]
  },
  {
   "cell_type": "code",
   "execution_count": 145,
   "metadata": {},
   "outputs": [],
   "source": [
    "# Run this cell to set the template\n",
    "HTML_TEMPLATE = \"\"\"\n",
    "<!DOCTYPE html>\n",
    "<head>\n",
    "  <style>\n",
    "\n",
    "      html {\n",
    "        font-family: \"Helvetica Neue\", Helvetica, arial, sans-serif;\n",
    "        font-size: 16px;\n",
    "      }\n",
    "\n",
    "      body {\n",
    "        margin: 0;\n",
    "        padding: 0;\n",
    "        width: 100%;\n",
    "        width: 100%;\n",
    "        overflow: hidden;\n",
    "      }\n",
    "\n",
    "      svg {\n",
    "        display: block;\n",
    "        width: 100%;\n",
    "        height: auto;\n",
    "      }\n",
    "\n",
    "      div#container {\n",
    "        overflow: hidden;\n",
    "      }\n",
    "    </style>\n",
    "    <meta charset=\"utf-8\">\n",
    "</head>\n",
    "<body>\n",
    "  <div class=\"container\">\n",
    "<svg width=\"640\" height=\"480\"></svg>\n",
    "<script src=\"https://d3js.org/d3.v4.min.js\"></script>\n",
    "\n",
    "<!-- Here is our data -->\n",
    "<script id=\"raw-data\" language=\"application/json\">\n",
    "__OUTPUT_JSON__\n",
    "</script>\n",
    "<script>\n",
    "\n",
    "// Parse data from tag inside this doucment\n",
    "var inputdata = JSON.parse(document.getElementById('raw-data').innerHTML);\n",
    "\n",
    "var svg = d3.select(\"svg\"),\n",
    "    width = +svg.attr(\"width\"),\n",
    "    height = +svg.attr(\"height\");\n",
    "\n",
    "// Create a dummy array with indicies\n",
    "var indicies = d3.range(inputdata.length);\n",
    "\n",
    "// Produce points with some zoom magic\n",
    "var circle = svg.selectAll(\"circle\")\n",
    "  .data(indicies)\n",
    "  .enter()\n",
    "  .append(\"circle\")\n",
    "    .attr(\"r\", 2.5)\n",
    "    .attr(\"fill\", function(d) {return inputdata[d][\"color\"]})\n",
    "    .attr(\"transform\", transform(d3.zoomIdentity));\n",
    "\n",
    "// Produce labels attached/placed relative to points\n",
    "var lbls = svg.selectAll(\"texts\")\n",
    "                .data(indicies)\n",
    "                .enter()\n",
    "                .append(\"text\")\n",
    "                .text(function(d) {\n",
    "                  return inputdata[d][\"label\"];\n",
    "                })\n",
    "                .attr(\"font-size\", \"15px\")\n",
    "                .attr(\"fill\", function(d) {return inputdata[d][\"color\"]})\n",
    "                .attr(\"transform\", transform(d3.zoomIdentity));\n",
    "\n",
    "// Will recieve index, and produce transform directive for that index\n",
    "function transform(t) {\n",
    "  return function(d) {\n",
    "    return \"translate(\" + t.apply(inputdata[d][\"position\"]) + \")\";\n",
    "  };\n",
    "}\n",
    "\n",
    "// Zoom transformation function\n",
    "function zoom() {\n",
    "  circle.attr(\"transform\", transform(d3.event.transform));\n",
    "  lbls.attr(\"transform\", transform(d3.event.transform));\n",
    "}\n",
    "\n",
    "// Add the zoom handler, that listens to events.\n",
    "svg.append(\"rect\")\n",
    "    .attr(\"fill\", \"none\")\n",
    "    .attr(\"pointer-events\", \"all\")\n",
    "    .attr(\"width\", \"100%\")\n",
    "    .attr(\"height\", \"100%\")\n",
    "    .call(d3.zoom()\n",
    "        .scaleExtent([1, 16]) //The minimum and maximum scale factor \n",
    "        .on(\"zoom\", zoom));\n",
    "\n",
    "</script>\n",
    "</div>\n",
    "</body>\n",
    "</html>\n",
    "\"\"\""
   ]
  },
  {
   "cell_type": "code",
   "execution_count": 146,
   "metadata": {},
   "outputs": [],
   "source": [
    "# Find extents\n",
    "x_extents = [min(pos[0] for pos in X_pos), max(pos[0] for pos in X_pos)]\n",
    "y_extents = [min(pos[1] for pos in X_pos), max(pos[1] for pos in X_pos)]\n",
    "\n",
    "# Compute translation\n",
    "translation = [-x_extents[0], -y_extents[0]]\n",
    "\n",
    "# Compute scaling, flip y to match convention that y is down not up.\n",
    "scale = [WIDTH/(x_extents[1]-x_extents[0]), -HEIGHT/(y_extents[1]-y_extents[0])]\n",
    "\n",
    "# Produce JSON dictionary\n",
    "output = []\n",
    "labels = all_words\n",
    "for (x_val, y_val), label, color in zip(X_pos, labels, all_cluster_color):\n",
    "    output.append({\"position\": ((float(x_val)+translation[0])*scale[0], (float(y_val)+translation[1])*scale[1]+HEIGHT), \"label\": label, \"color\": color})\n",
    "\n",
    "# Write HTML file with JSON embedded\n",
    "with open(OUTPUT_FILE, \"w\") as fout:\n",
    "    fout.write(HTML_TEMPLATE.replace(\"__OUTPUT_JSON__\", json.dumps(output)))"
   ]
  },
  {
   "cell_type": "markdown",
   "metadata": {},
   "source": [
    "Open the HTML file in your favorite browser.\n",
    "\n",
    "How to use:\n",
    " * Drag to move the image around\n",
    " * Zoom using the mousewheel, default min and max zoom values have been set.\n",
    "\n",
    "**Note:** *Internet access is required* for the page to work. The page downloads d3.js during start-up from https://d3js.org/d3.v4.min.js"
   ]
  }
 ],
 "metadata": {
  "kernelspec": {
   "display_name": "Python 3",
   "language": "python",
   "name": "python3"
  },
  "language_info": {
   "codemirror_mode": {
    "name": "ipython",
    "version": 3
   },
   "file_extension": ".py",
   "mimetype": "text/x-python",
   "name": "python",
   "nbconvert_exporter": "python",
   "pygments_lexer": "ipython3",
   "version": "3.6.4"
  }
 },
 "nbformat": 4,
 "nbformat_minor": 2
}
